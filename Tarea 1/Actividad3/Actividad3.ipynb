{
 "cells": [
  {
   "cell_type": "code",
   "execution_count": 16,
   "metadata": {},
   "outputs": [
    {
     "name": "stdout",
     "output_type": "stream",
     "text": [
      "Ingrese el número de partículas20\n",
      "Ingrese la longitud del cuadrado 10\n"
     ]
    },
    {
     "data": {
      "text/plain": [
       "[<matplotlib.lines.Line2D at 0x1dc6b039a90>]"
      ]
     },
     "execution_count": 16,
     "metadata": {},
     "output_type": "execute_result"
    },
    {
     "data": {
      "image/png": "[encoded data removed]",
      "text/plain": [
       "<Figure size 432x288 with 1 Axes>"
      ]
     },
     "metadata": {
      "needs_background": "light"
     },
     "output_type": "display_data"
    }
   ],
   "source": [
    "#MarcelAlfaro\n",
    "# Actividad 3 \n",
    "# Elaborar un programa para colocar N^2 partículas (puntos)\n",
    "# en una superficie cuadrada de lado L, de forma tal que \n",
    "# formen un arreglo cuadrangular\n",
    "\n",
    "import matplotlib.pyplot as plt\n",
    "#Solicitamos el número de particulas\n",
    "n = input (\"Ingrese el número de partículas\")\n",
    "#Solicitamos la longitud del cuadrado \n",
    "l = input (\"Ingrese la longitud del cuadrado \")\n",
    "#Calculamos el paso para colocar los puntos equidistantemente\n",
    "n = int(n)\n",
    "l = float(l)\n",
    "h = l/n\n",
    "#Arreglo de dos dimensiones\n",
    "a = []\n",
    "b = [] \n",
    "\n",
    "for i in range(n):\n",
    "    for j in range(n):\n",
    "        a.append(i*h) \n",
    "        b.append(j*h)\n",
    "df = pd.DataFrame (a,b)\n",
    "plt.plot(df , \"o\")"
   ]
  },
  {
   "cell_type": "code",
   "execution_count": null,
   "metadata": {},
   "outputs": [],
   "source": []
  },
  {
   "cell_type": "code",
   "execution_count": null,
   "metadata": {},
   "outputs": [],
   "source": []
  }
 ],
 "metadata": {
  "kernelspec": {
   "display_name": "Python 3",
   "language": "python",
   "name": "python3"
  },
  "language_info": {
   "codemirror_mode": {
    "name": "ipython",
    "version": 3
   },
   "file_extension": ".py",
   "mimetype": "text/x-python",
   "name": "python",
   "nbconvert_exporter": "python",
   "pygments_lexer": "ipython3",
   "version": "3.8.5"
  }
 },
 "nbformat": 4,
 "nbformat_minor": 4
}
