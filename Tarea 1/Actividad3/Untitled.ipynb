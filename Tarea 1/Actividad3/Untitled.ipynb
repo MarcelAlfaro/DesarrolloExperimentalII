{
 "cells": [
  {
   "cell_type": "code",
   "execution_count": 7,
   "metadata": {},
   "outputs": [
    {
     "ename": "SyntaxError",
     "evalue": "invalid syntax (<ipython-input-7-bb6c35066247>, line 16)",
     "output_type": "error",
     "traceback": [
      "\u001b[1;36m  File \u001b[1;32m\"<ipython-input-7-bb6c35066247>\"\u001b[1;36m, line \u001b[1;32m16\u001b[0m\n\u001b[1;33m    ejei[]\u001b[0m\n\u001b[1;37m         ^\u001b[0m\n\u001b[1;31mSyntaxError\u001b[0m\u001b[1;31m:\u001b[0m invalid syntax\n"
     ]
    }
   ],
   "source": [
    "# Actividad 3 \n",
    "# Elaborar un programa para colocar N^2 partículas (puntos)\n",
    "# en una superficie cuadrada de lado L, de forma tal que \n",
    "# formen un arreglo cuadrangular\n",
    "\n",
    "#Solicitamos el número de particulas\n",
    "n = input (\"Ingrese el número de partículas\")\n",
    "#Solicitamos la longitud del cuadrado \n",
    "l = input (\"Ingrese la longitud del cuadrado \")\n",
    "#Calculamos el paso para colocar los puntos equidistantemente\n",
    "n = int(n)\n",
    "l = float(l)\n",
    "h = n/l\n",
    "#llenamos n array con n puntos con una separación h\n",
    "for i in range (n):\n",
    "    ejei"
   ]
  },
  {
   "cell_type": "code",
   "execution_count": null,
   "metadata": {},
   "outputs": [],
   "source": []
  }
 ],
 "metadata": {
  "kernelspec": {
   "display_name": "Python 3",
   "language": "python",
   "name": "python3"
  },
  "language_info": {
   "codemirror_mode": {
    "name": "ipython",
    "version": 3
   },
   "file_extension": ".py",
   "mimetype": "text/x-python",
   "name": "python",
   "nbconvert_exporter": "python",
   "pygments_lexer": "ipython3",
   "version": "3.8.5"
  }
 },
 "nbformat": 4,
 "nbformat_minor": 4
}
