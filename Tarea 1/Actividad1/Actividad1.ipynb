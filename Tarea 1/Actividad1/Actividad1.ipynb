{
 "cells": [
  {
   "cell_type": "code",
   "execution_count": 68,
   "metadata": {},
   "outputs": [
    {
     "name": "stdout",
     "output_type": "stream",
     "text": [
      "Los valores actuales de a y b son : a = 1 b = 2 \n",
      "\n",
      "Seleccione la función que desea evaluar\n",
      "\n",
      "a). a+bx\n",
      "\n",
      "b). a+bx^2 \n",
      "\n",
      "c). x^(1/2)\n",
      "\n",
      "d). x^(1/3)\n",
      "\n",
      "e). ln(1+2x)\n",
      "\n",
      "f). Sen(x)\n",
      "\n",
      "g). e^(-x^2/2)\n",
      "\n",
      "h). 1/(1+x^2)\n",
      "\n",
      "h\n",
      "Ingrese como desea evaluar la función\n",
      "a-> En un punto fijo\n",
      "b-> En un rango [x1,x2]\n",
      "b\n",
      "Ingrese los valores del rango [x1,x2]\n",
      "Ingrese x1\n",
      "-100\n",
      "Ingrese x2\n",
      "100\n",
      "Ingrese el numero de intervalos que desea\n",
      "1000\n",
      "La funcion esta lista para graficar\n",
      "¿Desea evaluar otra funcion?\n",
      "\n",
      "a -> Si\n",
      "Cualquier tecla -> No\n",
      "\n",
      "\n",
      "\n"
     ]
    }
   ],
   "source": [
    "#MarcelAlfaro_Tarea1_DE\n",
    "#Programa para evaluar alguna de las siguientes funciones\n",
    "#Regresa gráfica y archivo de datos\n",
    "#Importamos libreria math\n",
    "import math as math\n",
    "import matplotlib.pyplot as plt\n",
    "import numpy as np\n",
    "import pandas as pd\n",
    "# Valor de las constantes\n",
    "a = 1 \n",
    "b = 2\n",
    "e = 2.71828\n",
    "res = 0\n",
    "i=\"a\"\n",
    "#Mostramos en pantalla que funcion se desea evaluar \n",
    "while (i == \"a\"):\n",
    "    print (\"Los valores actuales de a y b son :\" ,\"a =\",a,\"b =\",b,\"\\n\")\n",
    "    print (\"Seleccione la función que desea evaluar\\n\")\n",
    "    print (\"a). a+bx\\n\")\n",
    "    print (\"b). a+bx^2 \\n\")\n",
    "    print (\"c). x^(1/2)\\n\")\n",
    "    print (\"d). x^(1/3)\\n\")\n",
    "    print (\"e). ln(1+2x)\\n\")\n",
    "    print (\"f). Sen(x)\\n\")\n",
    "    print (\"g). e^(-x^2/2)\\n\")\n",
    "    print (\"h). 1/(1+x^2)\\n\")\n",
    "#Usuario escoge función\n",
    "    funcion = input() \n",
    "    print(\"Ingrese como desea evaluar la función\")\n",
    "    print(\"a-> En un punto fijo\")\n",
    "    print(\"b-> En un rango [x1,x2]\")\n",
    "    opcion = input()\n",
    "    \n",
    "    if (opcion == \"a\"):\n",
    "   # Evaluacion en punto fijo \n",
    "        print(\"Ingrese el valor X0 a evaluar\")\n",
    "        x0 = input()\n",
    "        x0 = float(x0)\n",
    "\n",
    "        if (funcion == \"a\"):\n",
    "            res = a+b*x0\n",
    "\n",
    "        elif(funcion == \"b\"):\n",
    "            res = a+b*x0**2\n",
    "\n",
    "        elif(funcion == \"c\"):\n",
    "            res = x0**.5\n",
    "\n",
    "        elif(funcion == \"d\"):\n",
    "            res = x0**(1/3)\n",
    "\n",
    "        elif(funcion == \"e\"):\n",
    "            res = math.log(1+2*x0)\n",
    "\n",
    "        elif(funcion == \"f\"):\n",
    "            res = math.sin(x0)\n",
    "\n",
    "        elif(funcion == \"g\"):\n",
    "            res = e ** (-x0**2/2)\n",
    "\n",
    "        elif(funcion == \"h\"):\n",
    "            res = 1 / (1+x0**2)\n",
    "\n",
    "        else:\n",
    "            print (funcion , \"No es una opcion valida\\n\\n\")\n",
    "    # Resultado\n",
    "        print (\"El resultado es\" , res)\n",
    "    #Evaluacion en rango\n",
    "    elif (opcion == \"b\"):\n",
    "        print (\"Ingrese los valores del rango [x1,x2]\")\n",
    "        print (\"Ingrese x1\")\n",
    "        x1 = input ()\n",
    "        x1 = int(x1)\n",
    "        print (\"Ingrese x2\")\n",
    "        x2 = input ()\n",
    "        x2 = int(x2)\n",
    "        print (\"Ingrese el numero de intervalos que desea\")\n",
    "        intervalos = input ()\n",
    "        intervalos = int(intervalos)\n",
    "    # Creamos un array con los valores del intervalo\n",
    "        ejex = []\n",
    "        h = (x2 - x1 ) / intervalos \n",
    "        x1= int(x1)\n",
    "        x2= int(x2)\n",
    "        j=1\n",
    "        intervalos = int (intervalos)\n",
    "        for j in range (intervalos+1):\n",
    "            ejex.append(x1+h*j)\n",
    "            \n",
    "    #Creamos un array con la funcion evaluada \n",
    "        ejey = []\n",
    "        for eje in range (intervalos+1) :\n",
    "            if (funcion == \"a\"):\n",
    "                ejey.append(a+b*ejex[eje])  \n",
    "\n",
    "            elif(funcion == \"b\"):\n",
    "                 ejey.append(a+b*ejex[eje]**2)   \n",
    "\n",
    "            elif(funcion == \"c\"):\n",
    "                 ejey.append(ejex[eje]**.5)  \n",
    "           \n",
    "            elif(funcion == \"d\"):\n",
    "                \n",
    "                 ejey.append(ejex[eje]**(1/3))\n",
    "                \n",
    "            elif(funcion == \"e\"):\n",
    "                ejey.append( math.log(1+2*ejex[eje]))\n",
    "\n",
    "            elif(funcion == \"f\"):\n",
    "                   ejey.append(math.sin(ejex[eje]))\n",
    "            \n",
    "            elif(funcion == \"g\"):\n",
    "                ejey.append(e ** (-ejex[eje]**2/2))\n",
    "\n",
    "            elif(funcion == \"h\"):\n",
    "                ejey.append( 1 / (1+ejex[eje]**2))\n",
    "            \n",
    "            else:\n",
    "                print(\"Esa no es una opción valida\")\n",
    "        print (\"La funcion esta lista para graficar\")\n",
    "    print (\"¿Desea evaluar otra funcion?\\n\")\n",
    "    print (\"a -> Si\")\n",
    "    print (\"Cualquier tecla -> No\\n\\n\")\n",
    "    \n",
    "    i = input ()     "
   ]
  },
  {
   "cell_type": "code",
   "execution_count": 69,
   "metadata": {
    "scrolled": true
   },
   "outputs": [
    {
     "data": {
      "text/plain": [
       "[<matplotlib.lines.Line2D at 0x220813249a0>]"
      ]
     },
     "execution_count": 69,
     "metadata": {},
     "output_type": "execute_result"
    },
    {
     "data": {
      "image/png": "[encoded data removed]",
      "text/plain": [
       "<Figure size 432x288 with 1 Axes>"
      ]
     },
     "metadata": {
      "needs_background": "light"
     },
     "output_type": "display_data"
    }
   ],
   "source": [
    "#Graficamos la funcion \n",
    "plt.plot(ejex,ejey)"
   ]
  },
  {
   "cell_type": "code",
   "execution_count": 70,
   "metadata": {},
   "outputs": [],
   "source": [
    "#Creamos diccionario \n",
    "datos = {\"X\":ejex,\"Y\":ejey}\n",
    "#Convertimos a un dataframe el diccionario\n",
    "df = pd.DataFrame(datos)\n",
    "#Exportamos los datos a un archivo de texto\n",
    "df.to_csv(\"Datos.txt\", header=None, index=None, sep=' ', mode='a')"
   ]
  },
  {
   "cell_type": "code",
   "execution_count": null,
   "metadata": {},
   "outputs": [],
   "source": []
  },
  {
   "cell_type": "code",
   "execution_count": null,
   "metadata": {},
   "outputs": [],
   "source": []
  },
  {
   "cell_type": "code",
   "execution_count": null,
   "metadata": {},
   "outputs": [],
   "source": []
  }
 ],
 "metadata": {
  "kernelspec": {
   "display_name": "Python 3",
   "language": "python",
   "name": "python3"
  },
  "language_info": {
   "codemirror_mode": {
    "name": "ipython",
    "version": 3
   },
   "file_extension": ".py",
   "mimetype": "text/x-python",
   "name": "python",
   "nbconvert_exporter": "python",
   "pygments_lexer": "ipython3",
   "version": "3.8.5"
  }
 },
 "nbformat": 4,
 "nbformat_minor": 4
}
